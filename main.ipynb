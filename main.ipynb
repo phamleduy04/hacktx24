{
 "cells": [
  {
   "cell_type": "code",
   "execution_count": 9,
   "metadata": {},
   "outputs": [
    {
     "name": "stdout",
     "output_type": "stream",
     "text": [
      "people-walking.mp4 asset download complete. \n",
      "\n"
     ]
    },
    {
     "data": {
      "text/plain": [
       "'people-walking.mp4'"
      ]
     },
     "execution_count": 9,
     "metadata": {},
     "output_type": "execute_result"
    }
   ],
   "source": [
    "from supervision.assets import download_assets, VideoAssets\n",
    "\n",
    "download_assets(VideoAssets.PEOPLE_WALKING)"
   ]
  },
  {
   "cell_type": "code",
   "execution_count": null,
   "metadata": {},
   "outputs": [
    {
     "name": "stdout",
     "output_type": "stream",
     "text": [
      "\n",
      "0: 640x384 5 persons, 1 handbag, 194.0ms\n",
      "Speed: 6.0ms preprocess, 194.0ms inference, 2.0ms postprocess per image at shape (1, 3, 640, 384)\n",
      "{'class_name': array(['person', 'person', 'person', 'person', 'person'], dtype='<U7')}\n"
     ]
    },
    {
     "ename": "AttributeError",
     "evalue": "module 'supervision' has no attribute 'SegmentationAnnotator'",
     "output_type": "error",
     "traceback": [
      "\u001b[1;31m---------------------------------------------------------------------------\u001b[0m",
      "\u001b[1;31mAttributeError\u001b[0m                            Traceback (most recent call last)",
      "Cell \u001b[1;32mIn[10], line 46\u001b[0m\n\u001b[0;32m     41\u001b[0m     annotated_frame \u001b[38;5;241m=\u001b[39m sv\u001b[38;5;241m.\u001b[39mSegmentationAnnotator()\u001b[38;5;241m.\u001b[39mannotate(\n\u001b[0;32m     42\u001b[0m         annotated_frame, detections\u001b[38;5;241m=\u001b[39mdetections)\n\u001b[0;32m     44\u001b[0m     \u001b[38;5;28;01mreturn\u001b[39;00m annotated_frame\n\u001b[1;32m---> 46\u001b[0m \u001b[43msv\u001b[49m\u001b[38;5;241;43m.\u001b[39;49m\u001b[43mprocess_video\u001b[49m\u001b[43m(\u001b[49m\n\u001b[0;32m     47\u001b[0m \u001b[43m    \u001b[49m\u001b[43msource_path\u001b[49m\u001b[38;5;241;43m=\u001b[39;49m\u001b[38;5;124;43m\"\u001b[39;49m\u001b[38;5;124;43mpeople_strolling.mp4\u001b[39;49m\u001b[38;5;124;43m\"\u001b[39;49m\u001b[43m,\u001b[49m\n\u001b[0;32m     48\u001b[0m \u001b[43m    \u001b[49m\u001b[43mtarget_path\u001b[49m\u001b[38;5;241;43m=\u001b[39;49m\u001b[38;5;124;43m\"\u001b[39;49m\u001b[38;5;124;43mresult.mp4\u001b[39;49m\u001b[38;5;124;43m\"\u001b[39;49m\u001b[43m,\u001b[49m\n\u001b[0;32m     49\u001b[0m \u001b[43m    \u001b[49m\u001b[43mcallback\u001b[49m\u001b[38;5;241;43m=\u001b[39;49m\u001b[43mcallback\u001b[49m\n\u001b[0;32m     50\u001b[0m \u001b[43m)\u001b[49m\n",
      "File \u001b[1;32mc:\\Users\\user\\anaconda3\\envs\\llm-cpp\\Lib\\site-packages\\supervision\\utils\\video.py:230\u001b[0m, in \u001b[0;36mprocess_video\u001b[1;34m(source_path, target_path, callback)\u001b[0m\n\u001b[0;32m    226\u001b[0m \u001b[38;5;28;01mwith\u001b[39;00m VideoSink(target_path\u001b[38;5;241m=\u001b[39mtarget_path, video_info\u001b[38;5;241m=\u001b[39msource_video_info) \u001b[38;5;28;01mas\u001b[39;00m sink:\n\u001b[0;32m    227\u001b[0m     \u001b[38;5;28;01mfor\u001b[39;00m index, frame \u001b[38;5;129;01min\u001b[39;00m \u001b[38;5;28menumerate\u001b[39m(\n\u001b[0;32m    228\u001b[0m         get_video_frames_generator(source_path\u001b[38;5;241m=\u001b[39msource_path)\n\u001b[0;32m    229\u001b[0m     ):\n\u001b[1;32m--> 230\u001b[0m         result_frame \u001b[38;5;241m=\u001b[39m \u001b[43mcallback\u001b[49m\u001b[43m(\u001b[49m\u001b[43mframe\u001b[49m\u001b[43m,\u001b[49m\u001b[43m \u001b[49m\u001b[43mindex\u001b[49m\u001b[43m)\u001b[49m\n\u001b[0;32m    231\u001b[0m         sink\u001b[38;5;241m.\u001b[39mwrite_frame(frame\u001b[38;5;241m=\u001b[39mresult_frame)\n",
      "Cell \u001b[1;32mIn[10], line 41\u001b[0m, in \u001b[0;36mcallback\u001b[1;34m(frame, _)\u001b[0m\n\u001b[0;32m     37\u001b[0m annotated_frame \u001b[38;5;241m=\u001b[39m label_annotator\u001b[38;5;241m.\u001b[39mannotate(\n\u001b[0;32m     38\u001b[0m     annotated_frame, detections\u001b[38;5;241m=\u001b[39mdetections, labels\u001b[38;5;241m=\u001b[39mlabels)\n\u001b[0;32m     40\u001b[0m \u001b[38;5;66;03m# Annotate the frame with segmentations\u001b[39;00m\n\u001b[1;32m---> 41\u001b[0m annotated_frame \u001b[38;5;241m=\u001b[39m \u001b[43msv\u001b[49m\u001b[38;5;241;43m.\u001b[39;49m\u001b[43mSegmentationAnnotator\u001b[49m()\u001b[38;5;241m.\u001b[39mannotate(\n\u001b[0;32m     42\u001b[0m     annotated_frame, detections\u001b[38;5;241m=\u001b[39mdetections)\n\u001b[0;32m     44\u001b[0m \u001b[38;5;28;01mreturn\u001b[39;00m annotated_frame\n",
      "\u001b[1;31mAttributeError\u001b[0m: module 'supervision' has no attribute 'SegmentationAnnotator'"
     ]
    }
   ],
   "source": [
    "import numpy as np\n",
    "import supervision as sv\n",
    "from ultralytics import YOLO\n",
    "\n",
    "model = YOLO(\"yolo11s.pt\")\n",
    "tracker = sv.ByteTrack()\n",
    "box_annotator = sv.BoxAnnotator()\n",
    "label_annotator = sv.LabelAnnotator()\n",
    "\n",
    "def callback(frame: np.ndarray, _: int) -> np.ndarray:\n",
    "    results = model(frame)[0]\n",
    "    detections = sv.Detections.from_ultralytics(results)\n",
    "    detections = detections[detections.class_id == 0]\n",
    "    detections = tracker.update_with_detections(detections)\n",
    "\n",
    "    \n",
    "\n",
    "    labels = [\n",
    "        f\"#{tracker_id} {results.names[class_id]}\"\n",
    "        for class_id, tracker_id\n",
    "        in zip(detections.class_id, detections.tracker_id)\n",
    "    ]\n",
    "\n",
    "    annotated_frame = box_annotator.annotate(\n",
    "        frame.copy(), detections=detections)\n",
    "    return label_annotator.annotate(\n",
    "        annotated_frame, detections=detections, labels=labels)\n",
    "\n",
    "sv.process_video(\n",
    "    source_path=\"people_strolling.mp4\",\n",
    "    target_path=\"result.mp4\",\n",
    "    callback=callback\n",
    ")"
   ]
  }
 ],
 "metadata": {
  "kernelspec": {
   "display_name": "llm-cpp",
   "language": "python",
   "name": "python3"
  },
  "language_info": {
   "codemirror_mode": {
    "name": "ipython",
    "version": 3
   },
   "file_extension": ".py",
   "mimetype": "text/x-python",
   "name": "python",
   "nbconvert_exporter": "python",
   "pygments_lexer": "ipython3",
   "version": "3.11.10"
  }
 },
 "nbformat": 4,
 "nbformat_minor": 2
}
